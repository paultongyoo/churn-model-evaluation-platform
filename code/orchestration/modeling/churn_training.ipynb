{
 "cells": [
  {
   "cell_type": "code",
   "execution_count": null,
   "id": "0fcbc763",
   "metadata": {},
   "outputs": [
    {
     "ename": "ModuleNotFoundError",
     "evalue": "No module named 'modeling'",
     "output_type": "error",
     "traceback": [
      "\u001b[0;31m---------------------------------------------------------------------------\u001b[0m",
      "\u001b[0;31mModuleNotFoundError\u001b[0m                       Traceback (most recent call last)",
      "Cell \u001b[0;32mIn[2], line 9\u001b[0m\n\u001b[1;32m      7\u001b[0m \u001b[38;5;28;01mimport\u001b[39;00m\u001b[38;5;250m \u001b[39m\u001b[38;5;21;01mseaborn\u001b[39;00m\u001b[38;5;250m \u001b[39m\u001b[38;5;28;01mas\u001b[39;00m\u001b[38;5;250m \u001b[39m\u001b[38;5;21;01msns\u001b[39;00m\n\u001b[1;32m      8\u001b[0m \u001b[38;5;28;01mfrom\u001b[39;00m\u001b[38;5;250m \u001b[39m\u001b[38;5;21;01mdotenv\u001b[39;00m\u001b[38;5;250m \u001b[39m\u001b[38;5;28;01mimport\u001b[39;00m load_dotenv\n\u001b[0;32m----> 9\u001b[0m \u001b[38;5;28;01mfrom\u001b[39;00m\u001b[38;5;250m \u001b[39m\u001b[38;5;21;01mmodeling\u001b[39;00m\u001b[38;5;21;01m.\u001b[39;00m\u001b[38;5;21;01mchurn_training\u001b[39;00m\u001b[38;5;250m \u001b[39m\u001b[38;5;28;01mimport\u001b[39;00m evaluate_model\n\u001b[1;32m     10\u001b[0m \u001b[38;5;28;01mfrom\u001b[39;00m\u001b[38;5;250m \u001b[39m\u001b[38;5;21;01mmodeling\u001b[39;00m\u001b[38;5;21;01m.\u001b[39;00m\u001b[38;5;21;01mchurn_training\u001b[39;00m\u001b[38;5;250m \u001b[39m\u001b[38;5;28;01mimport\u001b[39;00m prepare_data\n\u001b[1;32m     11\u001b[0m \u001b[38;5;28;01mfrom\u001b[39;00m\u001b[38;5;250m \u001b[39m\u001b[38;5;21;01mmodeling\u001b[39;00m\u001b[38;5;21;01m.\u001b[39;00m\u001b[38;5;21;01mchurn_training\u001b[39;00m\u001b[38;5;250m \u001b[39m\u001b[38;5;28;01mimport\u001b[39;00m train_model\n",
      "\u001b[0;31mModuleNotFoundError\u001b[0m: No module named 'modeling'"
     ]
    }
   ],
   "source": [
    "import os\n",
    "from pathlib import Path\n",
    "\n",
    "import matplotlib.pyplot as plt\n",
    "import mlflow\n",
    "import pandas as pd\n",
    "import seaborn as sns\n",
    "from churn_training import evaluate_model\n",
    "from churn_training import prepare_data\n",
    "from churn_training import train_model\n",
    "from dotenv import load_dotenv\n",
    "from sklearn.model_selection import train_test_split"
   ]
  },
  {
   "cell_type": "code",
   "execution_count": null,
   "id": "882e8357",
   "metadata": {},
   "outputs": [],
   "source": [
    "CUSTOMER_CHURN_DATASET = \"../../../data/customer_churn_0.csv\"\n",
    "TARGET_COLUMN = \"Churn\"\n",
    "df = pd.read_csv(CUSTOMER_CHURN_DATASET)"
   ]
  },
  {
   "cell_type": "code",
   "execution_count": null,
   "id": "585d2f30",
   "metadata": {},
   "outputs": [],
   "source": [
    "df.dtypes"
   ]
  },
  {
   "cell_type": "code",
   "execution_count": null,
   "id": "440ab249",
   "metadata": {},
   "outputs": [],
   "source": [
    "df.head()"
   ]
  },
  {
   "cell_type": "code",
   "execution_count": null,
   "id": "383ad99e",
   "metadata": {},
   "outputs": [],
   "source": [
    "df.shape"
   ]
  },
  {
   "cell_type": "code",
   "execution_count": null,
   "id": "a282f076",
   "metadata": {},
   "outputs": [],
   "source": [
    "len(df.isnull().sum().loc[lambda x: x > 0])"
   ]
  },
  {
   "cell_type": "code",
   "execution_count": null,
   "id": "9ec9eca8",
   "metadata": {},
   "outputs": [],
   "source": [
    "df.duplicated().sum()"
   ]
  },
  {
   "cell_type": "code",
   "execution_count": null,
   "id": "9521f536",
   "metadata": {},
   "outputs": [],
   "source": [
    "def plot_numerical_variables(numerical_df):\n",
    "    numerical_cols = numerical_df.select_dtypes(include=[\"float\", \"int\"]).columns\n",
    "\n",
    "    n_cols = 3\n",
    "    n_rows = (len(numerical_cols) + n_cols - 1) // n_cols\n",
    "    _, axes = plt.subplots(n_rows, n_cols, figsize=(5 * n_cols, 4 * n_rows))\n",
    "    axes = axes.flatten()\n",
    "    for idx, col in enumerate(numerical_cols):\n",
    "        sns.histplot(data=numerical_df, x=col, kde=True, ax=axes[idx])\n",
    "        axes[idx].set_title(f\"Distribution of {col}\")\n",
    "        axes[idx].tick_params(axis=\"x\", rotation=45)\n",
    "    # Hide any unused subplots\n",
    "    for ax in axes[len(numerical_cols) :]:\n",
    "        ax.set_visible(False)\n",
    "    plt.tight_layout()\n",
    "    plt.show()"
   ]
  },
  {
   "cell_type": "code",
   "execution_count": null,
   "id": "b859b617",
   "metadata": {},
   "outputs": [],
   "source": [
    "plot_numerical_variables(df)"
   ]
  },
  {
   "cell_type": "code",
   "execution_count": null,
   "id": "8abe5fc1",
   "metadata": {},
   "outputs": [],
   "source": [
    "print(Path().resolve().parents[2])\n",
    "env_path = Path().resolve().parents[2] / \".env\"\n",
    "load_dotenv(dotenv_path=env_path)\n",
    "MLFLOW_TRACKING_URI = os.getenv(\n",
    "    \"MLFLOW_TRACKING_URI\"\n",
    ")  # This should be set in your .env file\n",
    "print(f\"MLFLOW_TRACKING_URI: {MLFLOW_TRACKING_URI}\")\n",
    "if not MLFLOW_TRACKING_URI:\n",
    "    raise ValueError(\"MLFLOW_TRACKING_URI is not set. Please check your .env file.\")\n",
    "\n",
    "mlflow.set_tracking_uri(MLFLOW_TRACKING_URI)\n",
    "mlflow.set_experiment(\"mlops-churn-pipeline\")"
   ]
  },
  {
   "cell_type": "code",
   "execution_count": null,
   "id": "e4c383cd",
   "metadata": {},
   "outputs": [],
   "source": [
    "X, y = prepare_data(df)"
   ]
  },
  {
   "cell_type": "code",
   "execution_count": null,
   "id": "4e413b0a",
   "metadata": {},
   "outputs": [],
   "source": [
    "X.shape, y.shape"
   ]
  },
  {
   "cell_type": "code",
   "execution_count": null,
   "id": "40c79d85",
   "metadata": {},
   "outputs": [],
   "source": [
    "X_train, X_test, y_train, y_test = train_test_split(\n",
    "    X, y, test_size=0.2, random_state=42\n",
    ")"
   ]
  },
  {
   "cell_type": "code",
   "execution_count": null,
   "id": "975f8235",
   "metadata": {},
   "outputs": [],
   "source": [
    "X_train.shape, X_test.shape, y_train.shape, y_test.shape"
   ]
  },
  {
   "cell_type": "code",
   "execution_count": null,
   "id": "c16eeb24",
   "metadata": {},
   "outputs": [],
   "source": [
    "base_params = {\n",
    "    \"n_estimators\": 100,\n",
    "    \"max_depth\": 3,\n",
    "    \"learning_rate\": 0.1,\n",
    "    \"random_state\": 42,\n",
    "}\n",
    "clf = train_model(X_train, y_train, base_params)"
   ]
  },
  {
   "cell_type": "code",
   "execution_count": null,
   "id": "2860d0c7",
   "metadata": {},
   "outputs": [],
   "source": [
    "# To run hyperparameter tuning, import the function and uncomment the following line:\n",
    "# clf = tune_model_with_cv(X_train, y_train)"
   ]
  },
  {
   "cell_type": "code",
   "execution_count": null,
   "id": "b11d201c",
   "metadata": {},
   "outputs": [],
   "source": [
    "# Train final model with best tuned hyperparameters to-date\n",
    "# These parameters are based on the best results from previous tuning runs\n",
    "# X_test precision/recall/f1: 0.92 0.81 0.86\n",
    "best_params_to_date = {\n",
    "    \"n_estimators\": 352,\n",
    "    \"learning_rate\": 0.07154324375438634,\n",
    "    \"max_depth\": 7,\n",
    "    \"min_child_weight\": 1,\n",
    "    \"gamma\": 0.23500630396472585,\n",
    "    \"subsample\": 0.9472361823473306,\n",
    "    \"colsample_bytree\": 0.6149847610884563,\n",
    "    \"reg_alpha\": 0.029080723124195962,\n",
    "    \"reg_lambda\": 1.9394489642211972,\n",
    "}\n",
    "clf = train_model(X_train, y_train, best_params_to_date)"
   ]
  },
  {
   "cell_type": "code",
   "execution_count": null,
   "id": "c77a067a",
   "metadata": {},
   "outputs": [],
   "source": [
    "# First evaluate tuned model on training data to check for bias\n",
    "evaluate_model(clf, X_train, y_train, \"X_train\")"
   ]
  },
  {
   "cell_type": "code",
   "execution_count": null,
   "id": "e1046aa7",
   "metadata": {},
   "outputs": [],
   "source": [
    "# Next evaluate tuned model on test data to check for variance\n",
    "evaluate_model(\n",
    "    clf,\n",
    "    X_test,\n",
    "    y_test,\n",
    "    \"X_test\",\n",
    "    log_model=True,\n",
    "    log_model_X_train=X_train,\n",
    "    log_model_y_train=y_train,\n",
    ")"
   ]
  }
 ],
 "metadata": {
  "kernelspec": {
   "display_name": "orchestration",
   "language": "python",
   "name": "python3"
  },
  "language_info": {
   "codemirror_mode": {
    "name": "ipython",
    "version": 3
   },
   "file_extension": ".py",
   "mimetype": "text/x-python",
   "name": "python",
   "nbconvert_exporter": "python",
   "pygments_lexer": "ipython3",
   "version": "3.10.13"
  }
 },
 "nbformat": 4,
 "nbformat_minor": 5
}
